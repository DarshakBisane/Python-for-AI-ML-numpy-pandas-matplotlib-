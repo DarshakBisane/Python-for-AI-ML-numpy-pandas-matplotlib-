{
 "cells": [
  {
   "cell_type": "markdown",
   "id": "a5115841",
   "metadata": {},
   "source": [
    "# Array of Numpy"
   ]
  },
  {
   "cell_type": "code",
   "execution_count": null,
   "id": "aec84488",
   "metadata": {},
   "outputs": [
    {
     "name": "stdout",
     "output_type": "stream",
     "text": [
      "Array of Numpy:  [1 2 3]\n",
      "[[1 2 3]\n",
      " [4 5 6]]\n"
     ]
    }
   ],
   "source": [
    "import numpy as np\n",
    "\n",
    "arr_1 = np.array([1,2,3])\n",
    "print(\"Array of Numpy: \",arr_1)\n",
    "\n",
    "arr_2 = np.array([[1,2,3],[4,5,6]])\n",
    "print(arr_2)\n",
    "\n"
   ]
  },
  {
   "cell_type": "code",
   "execution_count": 6,
   "id": "454ada4b",
   "metadata": {},
   "outputs": [
    {
     "name": "stdout",
     "output_type": "stream",
     "text": [
      "[1, 2, 3, 1, 2, 3]\n",
      "[1, 3, 2, 1, 3, 2]\n"
     ]
    }
   ],
   "source": [
    "p_list = [1,2,3]\n",
    "print(p_list * 2)\n",
    "\n",
    "p_arr = [1,3,2]\n",
    "print(p_arr * 2)"
   ]
  },
  {
   "cell_type": "markdown",
   "id": "f17d19b2",
   "metadata": {},
   "source": []
  }
 ],
 "metadata": {
  "kernelspec": {
   "display_name": "venv (3.13.3)",
   "language": "python",
   "name": "python3"
  },
  "language_info": {
   "codemirror_mode": {
    "name": "ipython",
    "version": 3
   },
   "file_extension": ".py",
   "mimetype": "text/x-python",
   "name": "python",
   "nbconvert_exporter": "python",
   "pygments_lexer": "ipython3",
   "version": "3.13.3"
  }
 },
 "nbformat": 4,
 "nbformat_minor": 5
}
